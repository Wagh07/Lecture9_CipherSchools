{
  "nbformat": 4,
  "nbformat_minor": 0,
  "metadata": {
    "colab": {
      "provenance": []
    },
    "kernelspec": {
      "name": "python3",
      "display_name": "Python 3"
    },
    "language_info": {
      "name": "python"
    }
  },
  "cells": [
    {
      "cell_type": "code",
      "source": [
        "#  Lists datatype\n",
        "\n",
        "l=[]\n",
        "print(l)\n",
        "\n",
        "sea_creatures=['shark','cuttlefish','squid','whale','dolphin']\n",
        "\n",
        "print(sea_creatures)\n",
        "\n",
        "print(len(sea_creatures))\n",
        "\n",
        "print(sea_creatures[0])\n",
        "\n",
        "print('x'*20)\n",
        "\n",
        "print(sea_creatures[-1])\n"
      ],
      "metadata": {
        "colab": {
          "base_uri": "https://localhost:8080/"
        },
        "id": "4bxqZI4MykDz",
        "outputId": "84994caa-c302-41d0-fe95-b1a74b47413d"
      },
      "execution_count": 8,
      "outputs": [
        {
          "output_type": "stream",
          "name": "stdout",
          "text": [
            "[]\n",
            "['shark', 'cuttlefish', 'squid', 'whale', 'dolphin']\n",
            "5\n",
            "shark\n",
            "xxxxxxxxxxxxxxxxxxxx\n",
            "dolphin\n"
          ]
        }
      ]
    },
    {
      "cell_type": "markdown",
      "source": [
        "[link text](`https://`)\n",
        "# Lists are heterogenous\n",
        "\n",
        "lst=[]\n",
        "\n",
        "print(type(lst))\n",
        "\n",
        "lst.append(10)\n",
        "\n",
        "lst.append('Hi')\n",
        "\n",
        "lst.append(20.20)\n",
        "\n",
        "lst.append(True)\n",
        "\n",
        "print(lst)\n",
        "\n"
      ],
      "metadata": {
        "id": "ILGjvNdT1SDE"
      }
    },
    {
      "cell_type": "code",
      "source": [
        "\n",
        "\n",
        "# Nested Lists\n",
        "\n",
        "nest_lst=['Happy',[2,0,1]]\n",
        "\n",
        "print(nest_lst[0][1])\n",
        "\n",
        "print(nest_lst[0])\n",
        "\n",
        "print(nest_lst[1][2])\n",
        "\n"
      ],
      "metadata": {
        "colab": {
          "base_uri": "https://localhost:8080/"
        },
        "id": "hLr-vd5Z2W3b",
        "outputId": "1ef57f0e-0249-41ff-a369-930eb6025022"
      },
      "execution_count": 22,
      "outputs": [
        {
          "output_type": "stream",
          "name": "stdout",
          "text": [
            "a\n",
            "Happy\n",
            "1\n"
          ]
        }
      ]
    },
    {
      "cell_type": "code",
      "source": [
        "\n",
        "# Lists Are Mutable\n",
        "\n",
        "sea_creatures=['shark','cuttlefish','squid','whale','dolphin']\n",
        "\n",
        "sea_creatures[1]='Killer whale'\n",
        "\n",
        "print(sea_creatures)\n",
        "\n",
        "\n"
      ],
      "metadata": {
        "colab": {
          "base_uri": "https://localhost:8080/"
        },
        "id": "2pucSTGJ3CwX",
        "outputId": "9ffb0dd0-8c2d-4d6a-90d2-7de2490b41e6"
      },
      "execution_count": 24,
      "outputs": [
        {
          "output_type": "stream",
          "name": "stdout",
          "text": [
            "['shark', 'Killer whale', 'squid', 'whale', 'dolphin']\n"
          ]
        }
      ]
    },
    {
      "cell_type": "code",
      "source": [
        "\n",
        "# Slicing can also be done in Lists\n",
        "\n",
        "my_lst=['c','i','p','h','e','r']\n",
        "\n",
        "print(my_lst[:-2])\n",
        "\n",
        "print(my_lst[-4:-1])\n"
      ],
      "metadata": {
        "colab": {
          "base_uri": "https://localhost:8080/"
        },
        "id": "bOWa-AdP3fMn",
        "outputId": "91372bec-d1b0-460d-99a2-58922c12d90c"
      },
      "execution_count": 27,
      "outputs": [
        {
          "output_type": "stream",
          "name": "stdout",
          "text": [
            "['c', 'i', 'p', 'h']\n",
            "['p', 'h', 'e']\n"
          ]
        }
      ]
    },
    {
      "cell_type": "code",
      "source": [
        "\n",
        "# Sorting\n",
        "\n",
        "p=[3,1,2,4,9,8,5]\n",
        "\n",
        "p.sort()\n",
        "\n",
        "print(p)\n"
      ],
      "metadata": {
        "colab": {
          "base_uri": "https://localhost:8080/"
        },
        "id": "Bb1636Kf4HDm",
        "outputId": "b10f4db1-c564-4923-b967-50c7a4275871"
      },
      "execution_count": 29,
      "outputs": [
        {
          "output_type": "stream",
          "name": "stdout",
          "text": [
            "[1, 2, 3, 4, 5, 8, 9]\n"
          ]
        }
      ]
    },
    {
      "cell_type": "code",
      "source": [
        "# WAP to input 2 usernames and store it in a string and make a it a list\n",
        "\n",
        "\n",
        "a = input()\n",
        "\n",
        "a.split(\",\")\n",
        "\n",
        "\n"
      ],
      "metadata": {
        "colab": {
          "base_uri": "https://localhost:8080/"
        },
        "id": "GDQu-i2U4gWp",
        "outputId": "b7ea4c80-cac7-4c15-fe6f-6dcbfbafc912"
      },
      "execution_count": 32,
      "outputs": [
        {
          "name": "stdout",
          "output_type": "stream",
          "text": [
            "Victor , Wagh\n"
          ]
        },
        {
          "output_type": "execute_result",
          "data": {
            "text/plain": [
              "['Victor ', ' Wagh']"
            ]
          },
          "metadata": {},
          "execution_count": 32
        }
      ]
    },
    {
      "cell_type": "code",
      "source": [
        "\n",
        "# WAP to print last 5 elements of Cipherschool in reverse order\n",
        "\n",
        "s='CipherSchool'\n",
        "\n",
        "print(s[-1:-6:-1])\n"
      ],
      "metadata": {
        "colab": {
          "base_uri": "https://localhost:8080/"
        },
        "id": "VqEBUd6y5T8J",
        "outputId": "c7cd6f10-28f0-4ec4-c731-3ca0770c9c14"
      },
      "execution_count": 33,
      "outputs": [
        {
          "output_type": "stream",
          "name": "stdout",
          "text": [
            "loohc\n"
          ]
        }
      ]
    }
  ]
}